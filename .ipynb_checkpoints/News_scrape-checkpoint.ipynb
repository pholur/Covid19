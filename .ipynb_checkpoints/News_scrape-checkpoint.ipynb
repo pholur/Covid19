{
 "cells": [
  {
   "cell_type": "code",
   "execution_count": 21,
   "metadata": {},
   "outputs": [
    {
     "name": "stdout",
     "output_type": "stream",
     "text": [
      "Total Count of Articles:  1757\n"
     ]
    }
   ],
   "source": [
    "from bs4 import BeautifulSoup\n",
    "from newspaper import Article\n",
    "import requests\n",
    "import pandas as pd\n",
    "\n",
    "headers = requests.utils.default_headers()\n",
    "headers.update({ 'User-Agent': 'Mozilla/5.0 (X11; Ubuntu; Linux x86_64; rv:52.0) Gecko/20100101 Firefox/52.0'})\n",
    "url = \"https://www.covid19-archive.com/all-articles-on-one-page/\"\n",
    "req = requests.get(url, headers)\n",
    "soup = BeautifulSoup(req.content, 'html.parser')\n",
    "gg = soup.find_all(\"a\")\n",
    "c = 0\n",
    "list_of_urls = []\n",
    "for g in gg:\n",
    "    string_link = g.get(\"href\")\n",
    "    if \"https://web.archive.org/web/\" in string_link:\n",
    "        list_of_urls.append(string_link)\n",
    "        c += 1\n",
    "print(\"Total Count of Articles: \", c)"
   ]
  },
  {
   "cell_type": "code",
   "execution_count": null,
   "metadata": {},
   "outputs": [],
   "source": [
    "d = {'Author': [], 'Date': [], \"Text\": []}\n",
    "lost = 0\n",
    "for art in list_of_urls:\n",
    "    try:\n",
    "        article = Article(art)\n",
    "        article.download()\n",
    "        article.parse()\n",
    "        d['Author'].append(', '.join(article.authors))\n",
    "        d['Date'].append(str(article.publish_date))\n",
    "        d['Text'].append(article.text)\n",
    "    except:\n",
    "        lost += 1\n",
    "    \n",
    "raw_text = pd.DataFrame(data=d)\n",
    "raw_text.to_csv(\"covid19rawDataset.csv\")\n",
    "print(\"Number of Failed Links: \", lost)"
   ]
  },
  {
   "cell_type": "code",
   "execution_count": null,
   "metadata": {},
   "outputs": [],
   "source": []
  }
 ],
 "metadata": {
  "kernelspec": {
   "display_name": "Python 3",
   "language": "python",
   "name": "python3"
  },
  "language_info": {
   "codemirror_mode": {
    "name": "ipython",
    "version": 3
   },
   "file_extension": ".py",
   "mimetype": "text/x-python",
   "name": "python",
   "nbconvert_exporter": "python",
   "pygments_lexer": "ipython3",
   "version": "3.7.3"
  }
 },
 "nbformat": 4,
 "nbformat_minor": 2
}
