{
 "nbformat": 4,
 "nbformat_minor": 2,
 "metadata": {
  "language_info": {
   "name": "python",
   "codemirror_mode": {
    "name": "ipython",
    "version": 3
   },
   "version": "3.7.3-final"
  },
  "orig_nbformat": 2,
  "file_extension": ".py",
  "mimetype": "text/x-python",
  "name": "python",
  "npconvert_exporter": "python",
  "pygments_lexer": "ipython3",
  "version": 3,
  "kernelspec": {
   "name": "python37364bit4bd693e9780a48afbf8d298023c65066",
   "display_name": "Python 3.7.3 64-bit"
  }
 },
 "cells": [
  {
   "cell_type": "code",
   "execution_count": 1,
   "metadata": {},
   "outputs": [],
   "source": [
    "# BASIC IMPORTS OF ALL LIBRARIES\n",
    "'''\n",
    "Glove Imports are 300-dim from GENSIM\n",
    "Pickle saves all the datasets\n",
    "'''\n",
    "from nltk import pos_tag\n",
    "import csv\n",
    "import re\n",
    "import numpy as np\n",
    "from nltk.stem import WordNetLemmatizer\n",
    "import matplotlib.pyplot as plt\n",
    "from collections import defaultdict\n",
    "import networkx as nx\n",
    "from copy import deepcopy\n",
    "import pickle\n",
    "from entity_groups import *\n",
    "from graphviz import Source\n",
    "from sklearn.cluster import KMeans\n",
    "from scipy.spatial.distance import cdist \n",
    "import gensim.downloader as api\n",
    "\n",
    "wnl = WordNetLemmatizer()\n",
    "word_vectors = api.load(\"glove-wiki-gigaword-300\")"
   ]
  },
  {
   "cell_type": "code",
   "execution_count": 2,
   "metadata": {},
   "outputs": [
    {
     "output_type": "stream",
     "name": "stdout",
     "text": "['would', 'could', 'should', 'maybe', 'perhaps', 'think', 'might', 'assume', 'claim', 'this', \"n't\", 'not']\n"
    }
   ],
   "source": [
    "# junk verbs that are generalizably illegal\n",
    "junk_rel = [\"be\",\"have\",\"do\",\"let\",\"\",\"make\",\"tell\",\"say\",\"describe\",\"decide\",\"want\",\"name\",\"know\",\"think\",\"try\",\"become\",\"oneday\",\"put\",\"come\",'see', 'need', 'look', 'help', 'come', 'take', 'get', 'put', 'pick', 'turn', 'go', 'stand', 'give', 'notice', 'use',\"get\",\"start\"]\n",
    "\n",
    "# hypothetical words that are generally useless / qualifiers\n",
    "junk_words = [\"would\",\"could\",\"should\",\"maybe\",\"perhaps\",\"think\",\"might\",\"assume\",\"claim\",\"this\"]\n",
    "\n",
    "# negative sentences\n",
    "junk_words.extend(['n\\'t',\"not\"])\n",
    "print(junk_words)\n",
    "\n",
    "# perspective actants that are pointless\n",
    "junk = [\"you\",\"i\",\"we\",\"the\",\"it\",\"he\",\"she\",\"steinbeck\",\"people\",\"author\",\n",
    "        \"book\",\"me\",\"steinback\",\"him\",\"her\",\"their\",\"this\",\"\",\"shelley\",\"mary\",\"harper\",\"lee\",\"tolkien\"]"
   ]
  },
  {
   "cell_type": "code",
   "execution_count": 3,
   "metadata": {},
   "outputs": [
    {
     "output_type": "stream",
     "name": "stdout",
     "text": "{'us': ['us'], 'you': ['you'], 'me': ['me'], 'flu': ['flu', 'fever', 'virus'], 'we': ['we'], 'they': ['they'], 'them': ['them'], '5g': ['5g'], 'china': ['china', 'wuhan'], 'scam': ['scam'], 'dog': ['dogs', 'doggos', 'dog', 'doggo'], 'radiation': ['radiation'], 'waves': ['wave', 'waves'], 'fact': ['fact'], 'towers': ['towers', 'tower', 'radiotowers'], 'risk': ['risk'], 'cat': ['cat', 'cats'], 'bat': ['bat', 'bats']}\n{'us': 'us', 'you': 'you', 'me': 'me', 'flu': 'flu', 'fever': 'flu', 'virus': 'flu', 'we': 'we', 'they': 'they', 'them': 'them', '5g': '5g', 'china': 'china', 'wuhan': 'china', 'scam': 'scam', 'dogs': 'dog', 'doggos': 'dog', 'dog': 'dog', 'doggo': 'dog', 'radiation': 'radiation', 'wave': 'waves', 'waves': 'waves', 'fact': 'fact', 'towers': 'towers', 'tower': 'towers', 'radiotowers': 'towers', 'risk': 'risk', 'cat': 'cat', 'cats': 'cat', 'bat': 'bat', 'bats': 'bat'}\n"
    }
   ],
   "source": [
    "########################## EDIT DATE ##########################\n",
    "\n",
    "DATE = \"0412\"\n",
    "file_name = \"OS_News/\"\n",
    "text = \"OS_News\"\n",
    "#text = \"the_hobbit\""
   ]
  },
  {
   "cell_type": "code",
   "execution_count": 9,
   "metadata": {},
   "outputs": [],
   "source": [
    "results_path = \"Results\" + DATE + \"/\" + text\n",
    "adj_mat_path = \"Precedence_Matrix/\" + text\n",
    "abs_adj_mat_path = \"AbsPrecedence_Matrix/\" + text\n",
    "dic_path = \"Dictionary/\" + text + \".pickle\"\n",
    "ner_file = \"../Covid_19_Data/Extracted_Data/OS_News/\" + \"into_relex_final_relations_-1.csv\"\n",
    "entity_file = \"../Covid_19_Data/Extracted_Data/OS_News/\" + \"df_ent_final_ranking.csv\"\n",
    "S_use = {}\n",
    "# fill this in\n",
    "\n",
    "fileName = ner_file"
   ]
  },
  {
   "cell_type": "code",
   "execution_count": 10,
   "metadata": {},
   "outputs": [],
   "source": [
    "# HELPER FUNCTION\n",
    "def hypothetical_sentence(sent):\n",
    "    '''\n",
    "    Removes sentences that have the hypothetical list of words in them. \n",
    "    Does not offer information about sequencing.\n",
    "    '''\n",
    "    for word in sent.split():\n",
    "        for ground_word in junk_words:\n",
    "            if ground_word in word:\n",
    "                return True\n",
    "    return False"
   ]
  },
  {
   "cell_type": "code",
   "execution_count": 11,
   "metadata": {
    "tags": [
     "outputPrepend"
    ]
   },
   "outputs": [
    {
     "output_type": "stream",
     "name": "stdout",
     "text": "m', 'lose', 'us_lives', 'report', 'they_sunday', 'report', 'they_midday', 'report', 'they_cases', 'complain', 'workers_they', 'find', 'they_cure', 'report', 'china_all', 'report', 'china_sunday', 'report', 'china_cases', 'report', 'china_sunday', 'report', 'china_cases', 'remain', 'they_april', 'remain', 'they_effect', 'confirm', 'china_cases', 'confirm', 'china_week', 'confirm', 'china_cases', 'lead', 'china_spread', 'selfquarantine', 'they_that', 'criticize', 'trump_us', 'consider', 'trump_us', 'state', 'us_deaths', 'add', 'us_cases', 'TERMINATE'], ['START', 'TERMINATE'], ['START', 'test', 'anaesthetist_flu', 'test', 'anaesthetist_flu', 'TERMINATE'], ['START', 'TERMINATE'], ['START', 'TERMINATE'], ['START', 'TERMINATE'], ['START', 'distance', 'china_flu', 'eat', 'ones_bat', 'eat', 'ones_bat', 'consume', 'bat_purposes', 'consume', 'bat_purposes', 'assure', 'wisdom_they', 'TERMINATE'], ['START', 'transmit', 'members_flu', 'TERMINATE'], ['START', 'TERMINATE'], ['START', 'TERMINATE'], ['START', 'TERMINATE'], ['START', 'TERMINATE'], ['START', 'TERMINATE'], ['START', 'TERMINATE'], ['START', 'TERMINATE'], ['START', 'TERMINATE'], ['START', 'respond', 'they_supplies', 'TERMINATE'], ['START', 'TERMINATE'], ['START', 'speak', 'r_us', 'TERMINATE'], ['START', 'dump', 'them_wheelbarrow', 'TERMINATE'], ['START', 'diagnose', 'men_flu', 'increase', 'smoking_risk', 'increase', 'smoking_risk', 'double', 'chances_risk', 'TERMINATE'], ['START', 'find', 'institute_flu', 'cause', 'flu_samples', 'confirm', 'flu_rooms', 'relate', 'coronavirus_flu', 'relate', 'coronavirus_flu', 'write', 'they_flu', 'characterize', 'research_risk', 'work', 'coronavirus_flu', 'understand', 'coronavirus_flu', 'live', 'flu_surfaces', 'find', 'studies_flu', 'live', 'flu_surfaces', 'touch', 'flu_eyes', 'transmit', 'flu_tract', 'find', 'study_flu', 'transmit', 'flu_tract', 'TERMINATE'], ['START', 'embrace', 'vaccines_flu', 'induce', 'proteins_them', 'show', 'drugs_they', 'TERMINATE'], ['START', 'TERMINATE'], ['START', 'spread', 'flu_populations', 'TERMINATE'], ['START', 'suspend', 'us_fees', 'buy', 'us_oil', 'suspend', 'us_drillers', 'suspend', 'us_fees', 'buy', 'us_oil', 'TERMINATE'], ['START', 'bring', 'military_china', 'doubt', 'china_country', 'ask', 'flu_possibility', 'call', 'secretary_flu', 'state', 'secretary_flu', 'call', 'secretary_flu', 'accuse', 'cui_flu', 'bring', 'army_flu', 'continue', 'washington_flu', 'TERMINATE'], ['START', 'accuse', 'they_traitors', 'accuse', 'they_traitors', 'incite', 'anger_us', 'incite', 'anger_us', 'TERMINATE'], ['START', 'TERMINATE'], ['START', 'find', 'us_those', 'force', 'us_food', 'buy', 'us_food', 'find', 'us_those', 'factor', 'they_supply', 'factor', 'they_plan', 'factor', 'they_supply', 'TERMINATE'], ['START', 'loom', 'china_large', 'TERMINATE'], ['START', 'TERMINATE'], ['START', 'subject', 'city_china', 'die', 'anyone_flu', 'develop', 'fubin_flu', 'develop', 'fubin_flu', 'wheel', 'they_of', 'send', 'they_icu', 'expect', 'nobody_china', 'TERMINATE'], ['START', 'suffer', 'countries_us', 'inform', 'china_organization', 'inform', 'china_december', 'inform', 'china_organization', 'conclude', 'chomsky_fact', 'TERMINATE'], ['START', 'cause', 'flu_covid19', 'suggest', 'evidence_flu', 'cause', 'flu_covid19', 'pass', 'mosquito_flu', 'inject', 'scientists_flu', 'inject', 'scientists_flu', 'find', 'study_flu', 'contain', 'blood_flu', 'end', 'flu_gut', 'contain', 'blood_flu', 'infect', 'flu_cells', 'infect', 'flu_cells', 'infect', 'flu_rest', 'infect', 'flu_glands', 'infect', 'flu_passed', 'infect', 'flu_glands', 'negotiate', 'flu_gut', 'TERMINATE'], ['START', 'TERMINATE'], ['START', 'live', 'families_them', 'live', 'photo_them', 'live', 'rohingya_them', 'live', 'catastrophe_them', 'concern', 'everyone_flu', 'concern', 'flu_everyone', 'maintain', 'flu_distance', 'include', 'flu_symptoms', 'TERMINATE'], ['START', 'contain', 'aylward_flu', 'talk', 'weve_china', 'visit', 'team_china', 'visit', 'team_china', 'lie', 'taiwan_china', 'lie', 'miles_china', 'report', 'china_cases', 'report', 'china_deaths', 'report', 'china_cases', 'TERMINATE'], ['START', 'TERMINATE'], ['START', 'TERMINATE'], ['START', 'emerge', 'flu_asia', 'shut', 'china_borders', 'shut', 'china_foreigners', 'shut', 'china_borders', 'TERMINATE'], ['START', 'seal', 'flu_borders', 'seal', 'flu_january', 'account', 'china_flu', 'seal', 'flu_borders', 'account', 'china_ninetenths', 'clamp', 'flu_keep', 'quarantine', 'flu_diplomats', 'quarantine', 'flu_month', 'quarantine', 'flu_pyongyang', 'quarantine', 'flu_diplomats', 'TERMINATE'], ['START', 'TERMINATE'], ['START', 'wait', 'they_mall', 'wait', 'they_food', 'wait', 'they_food', 'walk', 'pedestrian_dog', 'walk', 'pedestrian_dog', 'shop', 'they_aisles', 'screen', 'personnel_them', 'screen', 'personnel_them', 'disembark', 'they_ship', 'hold', 'outbreak_china', 'die', 'li_china', 'contract', 'li_flu', 'build', 'hospital_china', 'wear', 'dog_mask', 'board', 'they_train', 'wait', 'they_train', 'leave', 'team_china', 'stop', 'china_travelers', 'stop', 'china_kong', 'stop', 'china_travelers', 'close', 'china_checkpoints', 'walk', 'they_decorations', 'walk', 'they_january', 'walk', 'they_beijing', 'travel', 'they_january', 'travel', 'they_holiday', 'travel', 'they_beijing', 'travel', 'they_holiday', 'arrive', 'they_airport', 'arrive', 'they_manila', 'rid', 'woman_china', 'TERMINATE'], ['START', 'downplay', 'bolsonaro_flu', 'encourage', 'bolsonaro_flu', 'follow', 'flu_deletion', 'follow', 'flu_deletion', 'outweigh', 'potential_risk', 'outweigh', 'potential_risk', 'TERMINATE'], ['START', 'scar', 'everyone_flu', 'scar', 'everyone_flu', 'TERMINATE'], ['START', 'TERMINATE'], ['START', 'TERMINATE'], ['START', 'lay', 'us_plan', 'lay', 'us_tuesday', 'call', 'us_framework', 'impede', 'guterres_risk', 'heighten', 'efforts_risk', 'seek', 'us_hit', 'open', 'us_channel', 'open', 'us_goods', 'open', 'us_switzerland', 'seek', 'us_channel', 'TERMINATE'], ['START', 'track', 'scientists_flu', 'track', 'scientists_flu', 'jump', 'flu_person', 'jump', 'flu_next', 'show', 'maps_flu', 'indicate', 'state_flu', 'show', 'flu_case', 'run', 'labs_flu', 'TERMINATE'], ['START', 'face', 'they_whammy', 'face', 'they_whammy', 'face', 'they_whammy', 'TERMINATE'], ['START', 'TERMINATE'], ['START', 'TERMINATE'], ['START', 'TERMINATE'], ['START', 'test', 'cat_coronavirus', 'pose', 'dog_risk', 'pose', 'cat_risk', 'emphasize', 'experts_dog', 'pose', 'experts_risk', 'transmit', 'pets_flu', 'transmit', 'pets_flu', 'amplify', 'test_flu', 'shed', 'animals_flu', 'spread', 'animals_flu', 'bring', 'youre_dog', 'spread', 'animals_flu', 'walk', 'your_dog', 'walk', 'your_dog', 'TERMINATE'], ['START', 'TERMINATE'], ['START', 'TERMINATE'], ['START', 'admit', 'they_rubio', 'admit', 'they_rubio', 'TERMINATE'], ['START', 'diagnose', 'putin_flu', 'diagnose', 'putin_flu', 'TERMINATE'], ['START', 'reappear', 'covid19_waves', 'strike', 'outbreak_us', 'hit', 'waves_october', 'TERMINATE'], ['START', 'protect', 'systems_us', 'protect', 'systems_us', 'TERMINATE'], ['START', 'TERMINATE'], ['START', 'account', 'china_epidemic', 'account', 'china_4', 'account', 'china_output', 'account', 'china_times', 'account', 'china_times', 'happen', 'whatever_china', 'affect', 'china_world', 'reshore', 'us_activities', 'TERMINATE'], ['START', 'diagnose', 'about_flu', 'surpass', 'us_cases', 'surpass', 'us_cases', 'sanitize', 'they_facilities', 'sanitize', 'they_facilities', 'prevent', 'they_spread', 'postpone', 'us_hearings', 'announce', 'they_postponement', 'announce', 'they_postponement', 'contract', 'blazic_flu', 'contract', 'member_flu', 'contract', 'blazic_flu', 'cause', 'flu_disease', 'produce', 'they_masks', 'begin', 'they_day', 'begin', 'they_day', 'chop', 'they_level', 'project', 'projects_us', 'project', 'house_us', 'suggest', 'they_measures', 'respond', 'leaders_flu', 'discuss', 'leaders_flu', 'respond', 'leaders_flu', 'hit', 'flu_countries', 'release', 'china_update', 'test', 'cat_pet', 'test', 'cat_coronavirus', 'test', 'cat_fisheries', 'reveal', 'fisheries_cat', 'send', 'cat_quarantine', 'send', 'cat_quarantine', 'test', 'dog_tests', 'test', 'dog_weak', 'confront', 'as_flu', 'TERMINATE'], ['START', 'reproduce', 'flu_way', 'TERMINATE'], ['START', 'cause', 'flu_fatalities', 'impose', 'measures_flu', 'fight', 'measures_flu', 'TERMINATE'], ['START', 'play', 'republic_flu', 'withdraw', 'staff_china', 'continue', 'waves_banning', 'continue', 'waves_beijing', 'leave', 'risk_traffic', 'TERMINATE'], ['START', 'spread', 'flu_turkey', 'TERMINATE'], ['START', 'TERMINATE'], ['START', 'detect', 'flu_china', 'TERMINATE'], ['START', 'TERMINATE'], ['START', 'TERMINATE'], ['START', 'TERMINATE'], ['START', 'TERMINATE'], ['START', 'transmit', 'covid19_cat', 'find', 'team_cat', 'transmit', 'cat_flu', 'catch', 'dog_infection', 'infect', 'cat_covid19', 'develop', 'cat_difficulties', 'develop', 'cat_diarrhoea', 'develop', 'cat_vomiting', 'show', 'cat_difficulties', 'develop', 'cat_difficulties', 'inoculate', 'cat_study', 'inoculate', 'cat_coronavirus', 'inoculate', 'cat_coronavirus', 'TERMINATE'], ['START', 'lead', 'flu_xenophobic', 'lead', 'flu_an', 'source', 'automakers_china', 'TERMINATE'], ['START', 'identify', 'flu_outset', 'track', 'teams_flu', 'sweep', 'flu_globe', 'quarantine', 'states_risk', 'drive', 'hawks_china', 'TERMINATE'], ['START', 'face', 'eu_risk', 'face', 'eu_risk', 'add', 'leader_flu', 'donate', 'germany_china', 'donate', 'france_china', 'leave', 'they_phase', 'felt', 'italians_they', 'leave', 'europe_they', 'TERMINATE'], ['START', 'express', 'us_skepticism', 'express', 'us_skepticism', 'cause', 'flu_illness', 'report', 'us_cases', 'report', 'us_deaths', 'report', 'us_cases', 'accuse', 'us_province', 'spread', 'us_misinformation', 'report', 'reuters_china', 'flatten', 'cases_china', 'report', 'reuters_china', 'TERMINATE'], ['START', 'TERMINATE'], ['START', 'TERMINATE'], ['START', 'stay', 'they_metres', 'TERMINATE'], ['START', 'TERMINATE'], ['START', 'originate', 'disease_china', 'mitigate', 'antibodies_risk', 'mitigate', 'antibodies_risk', 'mutate', 'coronavirus_risk', 'treat', 'they_cancer', 'treat', 'they_diseases', 'treat', 'they_diseases', 'treat', 'they_cancer', 'TERMINATE'], ['START', 'close', 'authorities_china', 'hit', 'flu_towns', 'close', 'authorities_china', 'hit', 'flu_towns', 'visit', 'ban_china', 'visit', 'iran_china', 'visit', 'group_china', 'hit', 'flu_europe', 'hit', 'flu_east', 'hit', 'flu_europe', 'hit', 'flu_europe', 'hit', 'flu_east', 'hit', 'flu_europe', 'show', 'drop_china', 'TERMINATE'], ['START', 'increase', 'way_risk', 'contract', 'member_flu', 'increase', 'way_risk', 'contract', 'member_flu', 'TERMINATE'], ['START', 'TERMINATE'], ['START', 'shoot', 'them_dead', 'TERMINATE'], ['START', 'leave', 'spread_china', 'TERMINATE'], ['START', 'TERMINATE'], ['START', 'TERMINATE'], ['START', 'urge', 'findlay_them', 'urge', 'findlay_them', 'urge', 'them_bodies', 'restrict', 'them_bodies', 'beat', 'them_flu', 'TERMINATE'], ['START', 'battle', 'countries_flu', 'illequipped', 'countries_flu', 'battle', 'countries_flu', 'TERMINATE'], ['START', 'TERMINATE'], ['START', 'achieve', 'they_target', 'achieve', 'they_target', 'install', 'they_team', 'force', 'flu_our', 'TERMINATE'], ['START', 'report', 'centers_flu', 'cause', 'flu_covid19', 'cause', 'flu_covid19', 'track', 'researchers_flu', 'track', 'researchers_flu', 'find', 'they_february', 'find', 'they_flu', 'interact', 'flu_conditions', 'shrug', 'patients_flu', 'report', 'rate_flu', 'attack', 'flu_cells', 'infect', 'who_flu', 'reveal', 'testing_flu', 'struggle', 'us_shortages', 'struggle', 'us_shortages', 'TERMINATE'], ['START', 'walk', 'couple_dog', 'walk', 'couple_dog', 'TERMINATE'], ['START', 'die', 'americans_flu', 'TERMINATE'], ['START', 'test', 'third_flu', 'test', 'third_flu', 'contract', 'workers_flu', 'die', 'workers_flu', 'contract', 'workers_flu', 'deplete', 'stocks_us', 'TERMINATE'], ['START', 'impose', 'measures_flu', 'fight', 'measures_flu', 'believe', 'authorities_flu', 'expect', 'they_drop', 'curb', 'west_flu', 'TERMINATE'], ['START', 'demonstrate', 'they_transparency', 'demonstrate', 'they_transparency', 'travel', 'experts_china', 'travel', 'experts_china', 'show', 'most_flu', 'close', 'vietnam_china', 'show', 'fact_who', 'TERMINATE'], ['START', 'criticise', 'china_officials', 'report', 'china_statistics', 'underreported', 'china_cases', 'conclude', 'report_china', 'underreported', 'china_cases', 'begin', 'outbreak_china', 'confirm', 'us_cases', 'report', 'china_cases', 'report', 'china_thursday', 'report', 'china_cases', 'bring', 'they_tally', 'add', 'they_fears', 'dwindle', 'cases_china', 'grow', 'concerns_waves', 'grow', 'concerns_waves', 'TERMINATE'], ['START', 'throw', 'flu_offbalance', 'fall', 'china_cases', 'fall', 'china_fourth', 'spread', 'flu_outbreak', 'keep', 'guidelines_them', 'keep', 'public_them', 'reach', 'flu_countries', 'reach', 'flu_countries', 'TERMINATE'], ['START', 'catch', 'continent_flu', 'TERMINATE'], ['START', 'begin', 'china_wednesday', 'begin', 'china_number', 'disclose', 'china_number', 'underreporting', 'china_cases', 'underreporting', 'china_cases', 'underreporting', 'beijing_china', 'play', 'china_victory', 'play', 'china_flu', 'play', 'china_contrast', 'contract', 'woman_flu', 'contract', 'woman_flu', 'TERMINATE'], ['START', 'TERMINATE'], ['START', 'infect', 'flu_professionals', 'infect', 'flu_professionals', 'test', '120_flu', 'surface', 'coronavirus_china', 'spread', 'flu_all', 'spread', 'data_flu', 'spread', 'patient_flu', 'TERMINATE'], ['START', 'TERMINATE'], ['START', 'TERMINATE'], ['START', 'force', 'interactions_us', 'TERMINATE'], ['START', 'TERMINATE'], ['START', 'test', 'patients_flu', 'remain', 'they_onboard', 'TERMINATE'], ['START', 'find', 'they_likelihood', 'find', 'they_likelihood', 'host', 'china_dinner', 'host', 'china_meantime', 'host', 'china_dinner', 'celebrate', 'china_year', 'surface', 'flu_republic', 'slash', 'contributions_us', 'understand', 'us_health', 'respond', 'us_health', 'threaten', 'coronavirus_us', 'avoid', 'us_heartache', 'avoid', 'us_heartache', 'focus', 'us_creating', 'focus', 'us_mutualism', 'create', 'us_mutualism', 'TERMINATE'], ['START', 'acknowledge', 'statement_risk', 'visit', 'national_china', 'visit', 'any_china', 'arrive', 'seven_china', 'complain', 'china_decision', 'complain', 'china_decision', 'call', 'china_decision', 'keep', 'restrictions_flu', 'keep', 'quarantines_flu', 'keep', 'restrictions_flu', 'report', 'china_cases', 'report', 'china_cases', 'TERMINATE'], ['START', 'shift', 'hotspot_china', 'shift', 'hotspot_china', 'seem', 'china_false', 'seem', 'china_false', 'recover', 'china_pandemic', 'recover', 'china_pandemic', 'TERMINATE'], ['START', 'contain', 'lockdown_flu', 'TERMINATE'], ['START', 'TERMINATE'], ['START', 'call', 'they_masques', 'call', 'they_france', 'call', 'they_war', 'call', 'they_france', 'inform', 'they_force', 'TERMINATE'], ['START', 'shed', 'npr_flu', 'evacuate', 'study_china', 'shed', 'patient_flu', 'shed', 'patient_flu', 'TERMINATE'], ['START', 'spread', 'china_december', 'spread', 'china_countries', 'spread', 'china_appearing', 'spread', 'flu_december', 'spread', 'flu_countries', 'spread', 'flu_appearing', 'TERMINATE'], ['START', 'contain', 'particles_flu', 'contain', 'particles_flu', 'refer', 'they_bioaerosols', 'refer', 'they_emitted', 'refer', 'they_particles', 'consider', 'flu_contrast', 'spread', 'flu_particles', 'show', 'studies_fact', 'travel', 'flu_distances', 'generate', 'flu_droplets', 'remain', 'flu_viable', 'remain', 'flu_infectious', 'survive', 'flu_conditions', 'TERMINATE'], ['START', 'TERMINATE'], ['START', 'assail', 'flu_patients', 'raise', 'level_risk', 'raise', 'level_risk', 'TERMINATE'], ['START', 'assail', 'flu_patients', 'raise', 'level_risk', 'raise', 'level_risk', 'TERMINATE'], ['START', 'cause', 'flu_disease', 'cause', 'flu_disease', 'mourn', 'martyrs_china', 'TERMINATE'], ['START', 'TERMINATE'], ['START', 'TERMINATE'], ['START', 'understate', 'china_numbers', 'understate', 'china_numbers', 'report', 'china_cases', 'urge', 'secretary_china', 'TERMINATE'], ['START', 'defend', 'ryan_china', 'defend', 'ryan_china', 'cover', 'china_extent', 'conclude', 'community_china', 'TERMINATE'], ['START', 'mean', 'they_what', 'mean', 'they_saving', 'reduce', 'vaccines_risk', 'reduce', 'vaccines_risk', 'reduce', 'vaccines_risk', 'cause', 'flu_covid19', 'cause', 'flu_covid19', 'TERMINATE'], ['START', 'promise', '5g_speeds', 'promise', '5g_speeds', 'TERMINATE'], ['START', 'TERMINATE'], ['START', 'TERMINATE'], ['START', 'hold', 'china_moment', 'hold', 'china_victims', 'hold', 'china_morning', 'hold', 'china_a', 'TERMINATE'], ['START', 'enforce', 'they_ban', 'intend', 'they_ban', 'enforce', 'they_ban', 'TERMINATE'], ['START', 'bury', 'them_causing', 'shoot', 'occasion_them', 'cause', 'them_trouble', 'mourn', 'china_deaths', 'leave', 'lockdown_them', 'refuse', 'they_homes', 'TERMINATE'], ['START', 'TERMINATE'], ['START', 'send', 'china_ventilators', 'send', 'china_ventilators', 'TERMINATE'], ['START', 'warn', 'us_citizens', 'state', 'us_government', 'criticise', 'officials_us', 'criticise', 'officials_us', 'TERMINATE'], ['START', 'emerge', 'news_china', 'emerge', 'coverage_china', 'emerge', 'news_china', 'emerge', 'news_china', 'stop', 'us_attempt', 'hope', 'chamber_us', 'stop', 'us_attempt', 'engage', 'us_manipulation', 'TERMINATE'], ['START', 'join', 'celebrities_us', 'join', 'celebrities_us', 'join', 'celebrities_us', 'link', 'post_5g', 'share', 'us_post', 'link', 'post_5g', 'urn', 'down_5g', 'kill', '5g_everyone', 'blame', 'rats_china', 'link', '5g_hazards', 'emit', 'waves_radiation', 'believe', 'radiation_frequencies', 'pose', 'radiation_risk', 'emit', 'waves_radiation', 'pose', 'radiation_risk', 'TERMINATE'], ['START', 'kill', 'flu_than', 'ask', 'them_job', 'ask', 'job_them', 'TERMINATE'], ['START', 'deal', 'resources_flu', 'fight', 'government_flu', 'expose', 'they_flu', 'leave', 'they_flu', 'expose', 'they_flu', 'break', 'us_quarantine', 'break', 'us_quarantine', 'recount', 'opposition_us', 'TERMINATE'], ['START', 'stay', 'they_weekend', 'TERMINATE'], ['START', 'TERMINATE'], ['START', 'transmit', 'flu_use', 'obtain', 'flu_person', 'link', 'rumours_5g', 'TERMINATE'], ['START', 'tackle', 'fund_flu', 'stop', 'europeans_flu', 'attend', 'they_need', 'attend', 'they_paez', 'control', 'border_china', 'stockpile', 'they_items', 'stockpile', 'they_items', 'pose', 'disease_risk', 'touch', 'flu_countries', 'pave', 'us_gmt', 'comply', 'them_regulation', 'announce', 'kong_them', 'comply', 'them_regulation', 'die', 'china_martyrs', 'die', 'china_outbreak', 'declare', 'china_day', 'report', 'china_deaths', 'report', 'china_deaths', 'report', 'china_cases', 'report', 'china_cases', 'report', 'china_saturday', 'report', 'china_deaths', 'report', 'china_deaths', 'raise', 'china_toll', 'TERMINATE'], ['START', 'transmit', 'flu_droplets', 'breathe', 'flu_experts', 'explain', 'consultation_flu', 'TERMINATE'], ['START', 'confirm', 'countries_us', 'report', 'china_cases', 'report', 'china_saturday', 'report', 'china_number', 'report', 'china_coronavirus', 'send', 'china_ventilators', 'send', 'china_york', 'send', 'china_deaths', 'send', 'china_ventilators', 'pose', 'citizens_risk', 'pose', 'citizens_risk', 'TERMINATE'], ['START', 'TERMINATE'], ['START', 'TERMINATE'], ['START', 'compare', 'transmission_flu', 'compare', 'transmission_flu', 'infect', 'they_range', 'infect', 'they_family', 'infect', 'they_range', 'move', 'bat_humans', 'move', 'bat_civets', 'spread', 'mers_bat', 'report', 'they_data', 'report', 'they_children', 'tend', 'they_fractions', 'develop', 'they_disease', 'tend', 'they_illness', 'develop', 'they_disease', 'cause', 'flu_covid19', 'cause', 'flu_covid19', 'contract', 'woman_flu', 'contract', 'woman_flu', 'infect', 'flu_utero', 'infect', 'flu_utero', 'test', 'newborns_flu', 'test', 'reports_flu', 'infect', 'they_birth', 'vary', 'they_population', 'vary', 'they_population', 'TERMINATE'], ['START', 'TERMINATE']]\n"
    }
   ],
   "source": [
    "trajectories = []\n",
    "same_post = 0\n",
    "traj = [\"START\"]\n",
    "\n",
    "with open(fileName) as csvfile:\n",
    "    readCSV = csv.reader(csvfile, delimiter=',')\n",
    "\n",
    "    for row in readCSV:\n",
    "        FLAG = 0\n",
    "\n",
    "        sub_r = \"\"\n",
    "        obj_r = \"\"\n",
    "        sub_verb = \"\"\n",
    "\n",
    "        if hypothetical_sentence(row[2]):\n",
    "            continue\n",
    "\n",
    "        try:\n",
    "            sub = re.search(r\"\\{(\\w+)\\}\", row[3]).group(1).lower()\n",
    "            rel = wnl.lemmatize(re.search(r\"\\{(\\w+)\\}\", row[4]).group(1).lower(), pos='v')\n",
    "            obj = re.search(r\"\\{(\\w+)\\}\", row[5]).group(1).lower()\n",
    "        except:\n",
    "            continue\n",
    "\n",
    "        words = row[2].split()\n",
    "        rel_words = []\n",
    "\n",
    "        if rel == None or obj == None or sub == None:\n",
    "            continue\n",
    "        \n",
    "        if same_post == row[0]:\n",
    "            pass\n",
    "        else:\n",
    "            same_post = row[0]\n",
    "            traj.append(\"TERMINATE\")\n",
    "            trajectories.append(traj)\n",
    "            traj = [\"START\"]\n",
    "\n",
    "        try:\n",
    "            sub_r = S_use[sub]\n",
    "        except:\n",
    "            sub_r = sub\n",
    "            FLAG += 1\n",
    "        \n",
    "        try:\n",
    "            obj_r = S_use[obj]\n",
    "        except:\n",
    "            obj_r = obj\n",
    "            FLAG += 1\n",
    "\n",
    "        sub_verb = \"\"\n",
    "\n",
    "        try:\n",
    "            sub_verb = C_use[rel]\n",
    "        except:\n",
    "            sub_verb = rel\n",
    "\n",
    "        if sub_r == obj_r or sub_r in junk or obj_r in junk or sub_verb in junk_rel or FLAG == 2:\n",
    "            continue\n",
    "\n",
    "        traj.append(sub_verb)\n",
    "        traj.append(sub_r + \"_\" + obj_r)\n",
    "\n",
    "# if we missed out on last post\n",
    "if traj != \"START\":\n",
    "    traj.append(\"TERMINATE\")\n",
    "    trajectories.append(traj)\n",
    "\n",
    "print(trajectories)"
   ]
  },
  {
   "cell_type": "code",
   "execution_count": null,
   "metadata": {},
   "outputs": [],
   "source": []
  }
 ]
}