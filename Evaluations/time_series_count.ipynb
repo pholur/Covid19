{
 "nbformat": 4,
 "nbformat_minor": 2,
 "metadata": {
  "language_info": {
   "name": "python",
   "codemirror_mode": {
    "name": "ipython",
    "version": 3
   },
   "version": "3.7.3-final"
  },
  "orig_nbformat": 2,
  "file_extension": ".py",
  "mimetype": "text/x-python",
  "name": "python",
  "npconvert_exporter": "python",
  "pygments_lexer": "ipython3",
  "version": 3,
  "kernelspec": {
   "name": "python37364bit4bd693e9780a48afbf8d298023c65066",
   "display_name": "Python 3.7.3 64-bit"
  }
 },
 "cells": [
  {
   "cell_type": "code",
   "execution_count": 1,
   "metadata": {},
   "outputs": [],
   "source": [
    "import pickle\n",
    "def save_obj(obj, name):\n",
    "    with open(name + '.pkl', 'wb') as f:\n",
    "        pickle.dump(obj, f, pickle.HIGHEST_PROTOCOL)\n",
    "def load_obj(name):\n",
    "    with open(name + '.pkl', 'rb') as f:\n",
    "        return pickle.load(f)"
   ]
  },
  {
   "cell_type": "code",
   "execution_count": 8,
   "metadata": {},
   "outputs": [
    {
     "output_type": "stream",
     "name": "stdout",
     "text": "44\n"
    }
   ],
   "source": [
    "word_level_comms = []\n",
    "for comm in load_obj(\"main_cores\"):\n",
    "    total = []\n",
    "    for c in comm:\n",
    "        total.extend(c.split(\",\"))\n",
    "    word_level_comms.append(total)\n",
    "print(len(word_level_comms))"
   ]
  },
  {
   "cell_type": "code",
   "execution_count": 15,
   "metadata": {},
   "outputs": [],
   "source": [
    "time_sweep = 5\n",
    "path_to_raw = \"../GDELT_actant_corr/ExtractedGDELTData/\"\n",
    "ordered_list = []\n",
    "for root, dirs, files in os.walk(path_to_raw):\n",
    "   for dirname in sorted(dirs):\n",
    "        ordered_list.append(path_to_raw + dirname + \"/into_relex.txt\")"
   ]
  },
  {
   "cell_type": "code",
   "execution_count": 24,
   "metadata": {},
   "outputs": [],
   "source": [
    "inspect_paths = []\n",
    "for i in range(len(ordered_list) - time_sweep + 1):\n",
    "    inspect_paths.append(ordered_list[i:i+time_sweep])"
   ]
  },
  {
   "cell_type": "code",
   "execution_count": 26,
   "metadata": {},
   "outputs": [],
   "source": [
    "def extract_text(link):\n",
    "    with open(link, 'r') as file:\n",
    "        data = file.read().replace('\\n', '')\n",
    "    return data\n",
    "\n",
    "total_corpi = []\n",
    "for set_of_raw in inspect_paths:\n",
    "    corpus = []\n",
    "    for link in set_of_raw:\n",
    "        corpus.append(extract_text(link).split())\n",
    "    total_corpi.append(corpus)"
   ]
  },
  {
   "cell_type": "code",
   "execution_count": 28,
   "metadata": {},
   "outputs": [
    {
     "output_type": "execute_result",
     "data": {
      "text/plain": "101"
     },
     "metadata": {},
     "execution_count": 28
    }
   ],
   "source": [
    "for corpus in total_corpi:\n",
    "    for word in word_level_comms:\n",
    "        \n"
   ]
  }
 ]
}