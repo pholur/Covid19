{
 "cells": [
  {
   "cell_type": "code",
   "execution_count": 94,
   "metadata": {
    "scrolled": true
   },
   "outputs": [],
   "source": [
    "# Coronavirus is a hoax - Politically Incorrect - 4chan\n",
    "# https://boards.4chan.org/pol/thread/252406368/coronavirus-is-a-hoax#p252406757\n",
    "# &#039;, \n",
    "from bs4 import BeautifulSoup\n",
    "from newspaper import Article\n",
    "import requests\n",
    "import pandas as pd\n",
    "import re\n",
    "\n",
    "headers = requests.utils.default_headers()\n",
    "headers.update({ 'User-Agent': 'Mozilla/5.0 (X11; Ubuntu; Linux x86_64; rv:52.0) Gecko/20100101 Firefox/52.0'})\n",
    "url = \"https://boards.4chan.org/pol//thread/252821554/new-york-state-now-has-more-coronavirus-cases\"\n",
    "req = requests.get(url, headers)\n",
    "soup = BeautifulSoup(req.content, 'html.parser')\n",
    "\n",
    "list_of_posts = []\n",
    "gg = soup.find_all(\"div\")\n",
    "for g in gg:\n",
    "    y = g.get(\"class\")\n",
    "    if y == ['post','reply']:\n",
    "        list_of_posts.append(g)\n",
    "\n",
    "chan4 = {\"date_utc\":[], \"user\":[], \"responding_to\":[], \"text\":[]}\n",
    "\n",
    "for post in list_of_posts:\n",
    "    date = None\n",
    "    try:\n",
    "        id_ = post.find(\"input\").get(\"name\")\n",
    "        message = post.find('blockquote', attrs={'class':'postMessage'})\n",
    "        result = re.search('<br/>(.*)</blockquote>', str(message))\n",
    "        result_ = result.group(1)\n",
    "        result_ = re.sub(\"<.*?>\",\"\",result_)\n",
    "        result_ = re.sub(\"&#039;\",\"\",result_)\n",
    "        result_ = re.sub(\"&gt;\",\"\",result_)\n",
    "        date_utc = post.find('span', attrs={'class':'dateTime'}).get(\"data-utc\")\n",
    "        hyper_linked_user = post.find('a', attrs={'class':'quotelink'}).get(\"href\")\n",
    "        \n",
    "        chan4[\"date_utc\"].append(date_utc)\n",
    "        chan4[\"user\"].append(id_)\n",
    "        chan4[\"responding_to\"].append(hyper_linked_user[2:])\n",
    "        chan4[\"text\"].append(result_)\n",
    "\n",
    "    except:\n",
    "        pass\n",
    "\n",
    "Data = pd.DataFrame.from_dict(chan4)\n",
    "Data.to_csv(\"chan4_new_york_has_more_corona.csv\")\n",
    "\n",
    "\n"
   ]
  },
  {
   "cell_type": "code",
   "execution_count": null,
   "metadata": {},
   "outputs": [],
   "source": []
  }
 ],
 "metadata": {
  "kernelspec": {
   "display_name": "Python 3",
   "language": "python",
   "name": "python3"
  },
  "language_info": {
   "codemirror_mode": {
    "name": "ipython",
    "version": 3
   },
   "file_extension": ".py",
   "mimetype": "text/x-python",
   "name": "python",
   "nbconvert_exporter": "python",
   "pygments_lexer": "ipython3",
   "version": "3.7.3"
  }
 },
 "nbformat": 4,
 "nbformat_minor": 2
}
