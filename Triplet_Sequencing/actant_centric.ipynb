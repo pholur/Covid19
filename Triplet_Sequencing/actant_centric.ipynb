{
 "nbformat": 4,
 "nbformat_minor": 2,
 "metadata": {
  "language_info": {
   "name": "python",
   "codemirror_mode": {
    "name": "ipython",
    "version": 3
   },
   "version": "3.7.3-final"
  },
  "orig_nbformat": 2,
  "file_extension": ".py",
  "mimetype": "text/x-python",
  "name": "python",
  "npconvert_exporter": "python",
  "pygments_lexer": "ipython3",
  "version": 3,
  "kernelspec": {
   "name": "python37364bit4bd693e9780a48afbf8d298023c65066",
   "display_name": "Python 3.7.3 64-bit"
  }
 },
 "cells": [
  {
   "cell_type": "code",
   "execution_count": 1,
   "metadata": {},
   "outputs": [],
   "source": [
    "# BASIC IMPORTS OF ALL LIBRARIES\n",
    "'''\n",
    "Glove Imports are 300-dim from GENSIM\n",
    "Pickle saves all the datasets\n",
    "'''\n",
    "import pygraphviz\n",
    "from nltk import pos_tag\n",
    "import csv\n",
    "import re\n",
    "import numpy as np\n",
    "from nltk.stem import WordNetLemmatizer\n",
    "import matplotlib.pyplot as plt\n",
    "from collections import defaultdict\n",
    "import networkx as nx\n",
    "from copy import deepcopy\n",
    "import pickle\n",
    "from entity_groups import *\n",
    "from graphviz import Source\n",
    "from sklearn.cluster import KMeans\n",
    "from scipy.spatial.distance import cdist \n",
    "import gensim.downloader as api\n",
    "\n",
    "wnl = WordNetLemmatizer()\n",
    "word_vectors = api.load(\"glove-wiki-gigaword-300\")"
   ]
  },
  {
   "cell_type": "code",
   "execution_count": 97,
   "metadata": {},
   "outputs": [
    {
     "output_type": "stream",
     "name": "stdout",
     "text": "['would', 'could', 'should', 'maybe', 'perhaps', 'think', 'might', 'assume', 'claim', 'this', \"n't\", 'not']\n"
    }
   ],
   "source": [
    "# junk verbs that are generalizably illegal\n",
    "junk_rel = [\"be\",\"have\",\"do\",\"let\",\"\",\"make\",\"tell\",\"say\",\"describe\",\"decide\",\"want\",\"name\",\"know\",\"think\",\"try\",\"become\",\"oneday\",\"put\",\"come\",'see', 'need', 'look', 'help', 'come', 'take', 'get', 'put', 'pick', 'turn', 'go', 'stand', 'give', 'notice', 'use',\"get\",\"start\"]\n",
    "\n",
    "# hypothetical words that are generally useless / qualifiers\n",
    "junk_words = [\"would\",\"could\",\"should\",\"maybe\",\"perhaps\",\"think\",\"might\",\"assume\",\"claim\",\"this\"]\n",
    "\n",
    "# negative sentences\n",
    "junk_words.extend(['n\\'t',\"not\"])\n",
    "print(junk_words)\n",
    "\n",
    "# perspective actants that are pointless\n",
    "junk = [\"you\",\"i\",\"we\",\"the\",\"it\",\"he\",\"she\",\"steinbeck\",\"people\",\"author\",\n",
    "        \"book\",\"me\",\"steinback\",\"him\",\"her\",\"their\",\"this\",\"\",\"shelley\",\"mary\",\"harper\",\"lee\",\"tolkien\"]"
   ]
  },
  {
   "cell_type": "code",
   "execution_count": 98,
   "metadata": {},
   "outputs": [],
   "source": [
    "DATE = \"0413\"\n",
    "file_name = \"OS_News/\"\n",
    "text = \"OS_News\""
   ]
  },
  {
   "cell_type": "code",
   "execution_count": 99,
   "metadata": {},
   "outputs": [],
   "source": [
    "import pandas as pd\n",
    "results_path = \"Results\" + DATE + \"/\" + text\n",
    "adj_mat_path = \"Precedence_Matrix/\" + text\n",
    "abs_adj_mat_path = \"AbsPrecedence_Matrix/\" + text\n",
    "dic_path = \"Dictionary/\" + text + \".pickle\"\n",
    "ner_file = \"../Covid_19_Data/Extracted_Data/OS_News/\" + \"into_relex_final_relations_-1.csv\"\n",
    "entity_file = \"../Covid_19_Data/Extracted_Data/OS_News/\" + \"df_ent_final_ranking.csv\"\n",
    "S_use = {}\n",
    "# fill this in\n",
    "\n",
    "places = []\n",
    "ent_file = pd.read_csv(entity_file)\n",
    "for row in ent_file.head(n=20).iterrows():\n",
    "    if row[1]['type'] == \"GPE\":\n",
    "        places.append(row[1]['entity'])\n",
    "    S_use[row[1]['entity']] = row[1]['entity']\n",
    "\n",
    "fileName = ner_file"
   ]
  },
  {
   "cell_type": "code",
   "execution_count": 100,
   "metadata": {},
   "outputs": [],
   "source": [
    "actants_5g = [\"5g\",\"radio\",\"transmitters\",\"towers\",\"radiation\",\"army\",\"waves\",\"conspiracy\"]\n",
    "for a in actants_5g:\n",
    "    S_use[a] = a"
   ]
  },
  {
   "cell_type": "code",
   "execution_count": 101,
   "metadata": {},
   "outputs": [],
   "source": [
    "# HELPER FUNCTION\n",
    "def hypothetical_sentence(sent):\n",
    "    '''\n",
    "    Removes sentences that have the hypothetical list of words in them. \n",
    "    Does not offer information about sequencing.\n",
    "    '''\n",
    "    for word in sent.split():\n",
    "        for ground_word in junk_words:\n",
    "            if ground_word in word:\n",
    "                return True\n",
    "    return False"
   ]
  },
  {
   "cell_type": "code",
   "execution_count": 102,
   "metadata": {},
   "outputs": [],
   "source": [
    "trajectories = []\n",
    "same_post = 0\n",
    "traj = [\"START\"]\n",
    "\n",
    "with open(fileName) as csvfile:\n",
    "    readCSV = csv.reader(csvfile, delimiter=',')\n",
    "\n",
    "    for row in readCSV:\n",
    "        FLAG = 0\n",
    "        sentence_num = row[1]\n",
    "        sub_r = \"\"\n",
    "        obj_r = \"\"\n",
    "        sub_verb = \"\"\n",
    "\n",
    "        if hypothetical_sentence(row[2]):\n",
    "            continue\n",
    "\n",
    "        try:\n",
    "            sub = re.search(r\"\\{(\\w+)\\}\", row[3]).group(1).lower()\n",
    "            rel = wnl.lemmatize(re.search(r\"\\{(\\w+)\\}\", row[4]).group(1).lower(), pos='v')\n",
    "            obj = re.search(r\"\\{(\\w+)\\}\", row[5]).group(1).lower()\n",
    "        except:\n",
    "            continue\n",
    "\n",
    "        words = row[2].split()\n",
    "        rel_words = []\n",
    "\n",
    "        if rel == None or obj == None or sub == None:\n",
    "            continue\n",
    "        \n",
    "        if same_post == row[0]:\n",
    "            pass\n",
    "        else:\n",
    "            same_post = row[0]\n",
    "            traj.append(\"TERMINATE\")\n",
    "            trajectories.append(traj)\n",
    "            traj = [\"START\"]\n",
    "\n",
    "        try:\n",
    "            sub_r = S_use[sub]\n",
    "        except:\n",
    "            sub_r = sub\n",
    "            FLAG += 1\n",
    "        \n",
    "        try:\n",
    "            obj_r = S_use[obj]\n",
    "        except:\n",
    "            obj_r = obj\n",
    "            FLAG += 1\n",
    "\n",
    "        sub_verb = \"\"\n",
    "\n",
    "        try:\n",
    "            sub_verb = C_use[rel]\n",
    "        except:\n",
    "            sub_verb = rel\n",
    "\n",
    "        if sub_r == obj_r or sub_r in junk or obj_r in junk or sub_verb in junk_rel \\\n",
    "                                or FLAG > 0 or sub_r.isdigit() or obj_r.isdigit():\n",
    "            continue\n",
    "\n",
    "        traj.append(sub_verb)\n",
    "        traj.append(sub_r + \"_\" + obj_r + \"_\" + sentence_num)\n",
    "\n",
    "# if we missed out on last post\n",
    "if traj != \"START\":\n",
    "    traj.append(\"TERMINATE\")\n",
    "    trajectories.append(traj)"
   ]
  },
  {
   "cell_type": "code",
   "execution_count": 103,
   "metadata": {
    "tags": [
     "outputPrepend"
    ]
   },
   "outputs": [
    {
     "output_type": "stream",
     "name": "stdout",
     "text": "ct', 'government_virus_34', 'contain', 'government_virus_34', 'TERMINATE'], ['START', 'TERMINATE'], ['START', 'TERMINATE'], ['START', 'cause', 'coronavirus_covid19_2', 'begin', 'outbreak_china_2', 'cause', 'coronavirus_covid19_2', 'TERMINATE'], ['START', 'invest', 'china_wuhan_32', 'TERMINATE'], ['START', 'cause', 'coronavirus_covid19_18', 'cause', 'coronavirus_covid19_18', 'TERMINATE'], ['START', 'batter', 'trump_outbreak_15', 'account', 'italy_cases_28', 'confirm', 'us_cases_32', 'TERMINATE'], ['START', 'TERMINATE'], ['START', 'TERMINATE'], ['START', 'TERMINATE'], ['START', 'TERMINATE'], ['START', 'TERMINATE'], ['START', 'TERMINATE'], ['START', 'TERMINATE'], ['START', 'TERMINATE'], ['START', 'TERMINATE'], ['START', 'TERMINATE'], ['START', 'TERMINATE'], ['START', 'enter', 'virus_china_7', 'TERMINATE'], ['START', 'TERMINATE'], ['START', 'TERMINATE'], ['START', 'TERMINATE'], ['START', 'TERMINATE'], ['START', 'TERMINATE'], ['START', 'TERMINATE'], ['START', 'TERMINATE'], ['START', 'TERMINATE'], ['START', 'order', 'government_coronavirus_158', 'order', 'government_coronavirus_158', 'trace', 'government_cases_192', 'differ', 'italy_outbreak_199', 'report', 'beijing_cases_258', 'postpone', 'trump_japan_267', 'TERMINATE'], ['START', 'TERMINATE'], ['START', 'TERMINATE'], ['START', 'originate', 'virus_wuhan_8', 'prefer', 'trump_us_19', 'appear', 'coronavirus_us_23', 'compare', 'coronavirus_us_23', 'TERMINATE'], ['START', 'travel', 'uk_us_0', 'originate', 'virus_china_10', 'TERMINATE'], ['START', 'TERMINATE'], ['START', 'TERMINATE'], ['START', 'TERMINATE'], ['START', 'TERMINATE'], ['START', 'TERMINATE'], ['START', 'deal', 'italy_outbreak_2', 'cause', 'coronavirus_outbreak_26', 'cause', 'coronavirus_outbreak_26', 'TERMINATE'], ['START', 'TERMINATE'], ['START', 'stop', 'coronavirus_us_3', 'stop', 'coronavirus_us_3', 'respond', 'government_outbreak_8', 'TERMINATE'], ['START', 'record', 'italy_cases_3', 'record', 'italy_cases_3', 'confirm', 'italy_cases_3', 'slam', 'coronavirus_italy_8', 'report', 'italy_cases_8', 'TERMINATE'], ['START', 'TERMINATE'], ['START', 'declare', 'government_coronavirus_0', 'deal', 'outbreak_government_47', 'TERMINATE'], ['START', 'TERMINATE'], ['START', 'TERMINATE'], ['START', 'TERMINATE'], ['START', 'breach', 'coronavirus_italy_21', 'breach', 'coronavirus_italy_21', 'TERMINATE'], ['START', 'TERMINATE'], ['START', 'cause', 'coronavirus_covid19_8', 'cause', 'coronavirus_covid19_8', 'TERMINATE'], ['START', 'combat', 'government_virus_20', 'TERMINATE'], ['START', 'TERMINATE'], ['START', 'report', 'italy_outbreak_0', 'beat', 'government_outbreak_15', 'battle', 'government_coronavirus_199', 'tackle', 'government_coronavirus_237', 'record', 'china_cases_248', 'TERMINATE'], ['START', 'TERMINATE'], ['START', 'TERMINATE'], ['START', 'TERMINATE'], ['START', 'cause', 'virus_outbreak_53', 'cause', 'virus_outbreak_53', 'TERMINATE'], ['START', 'TERMINATE'], ['START', 'TERMINATE'], ['START', 'TERMINATE'], ['START', 'TERMINATE'], ['START', 'TERMINATE'], ['START', 'TERMINATE'], ['START', 'TERMINATE'], ['START', 'TERMINATE'], ['START', 'TERMINATE'], ['START', 'TERMINATE'], ['START', 'TERMINATE'], ['START', 'protect', 'us_coronavirus_21', 'hinder', 'virus_us_22', 'TERMINATE'], ['START', 'TERMINATE'], ['START', 'TERMINATE'], ['START', 'confirm', 'iran_cases_46', 'TERMINATE'], ['START', 'report', 'cases_china_4', 'call', 'virus_covid19_4', 'declare', 'government_coronavirus_84', 'fight', 'us_virus_113', 'fight', 'us_virus_113', 'send', 'china_italy_227', 'continue', 'outbreak_coronavirus_266', 'combat', 'government_outbreak_312', 'combat', 'government_outbreak_312', 'wrestle', 'china_cases_384', 'account', 'beijing_cases_388', 'TERMINATE'], ['START', 'TERMINATE'], ['START', 'report', 'italy_cases_3', 'TERMINATE'], ['START', 'TERMINATE'], ['START', 'TERMINATE'], ['START', 'TERMINATE'], ['START', 'TERMINATE'], ['START', 'TERMINATE'], ['START', 'deal', 'government_outbreak_13', 'TERMINATE'], ['START', 'TERMINATE'], ['START', 'TERMINATE'], ['START', 'TERMINATE'], ['START', 'TERMINATE'], ['START', 'TERMINATE'], ['START', 'TERMINATE'], ['START', 'TERMINATE'], ['START', 'TERMINATE'], ['START', 'fight', 'beijing_virus_59', 'learn', 'beijing_virus_59', 'fight', 'beijing_virus_59', 'TERMINATE'], ['START', 'TERMINATE'], ['START', 'TERMINATE'], ['START', 'TERMINATE'], ['START', 'TERMINATE'], ['START', 'TERMINATE'], ['START', 'TERMINATE'], ['START', 'confirm', 'coronavirus_cases_7', 'TERMINATE'], ['START', 'cause', 'virus_covid19_29', 'cause', 'virus_covid19_29', 'TERMINATE'], ['START', 'cause', 'virus_covid19_29', 'cause', 'virus_covid19_29', 'TERMINATE'], ['START', 'TERMINATE'], ['START', 'TERMINATE'], ['START', 'TERMINATE'], ['START', 'TERMINATE'], ['START', 'TERMINATE'], ['START', 'TERMINATE'], ['START', 'TERMINATE'], ['START', 'TERMINATE'], ['START', 'TERMINATE'], ['START', 'visit', 'beijing_wuhan_13', 'TERMINATE'], ['START', 'treat', 'trump_outbreak_1', 'treat', 'trump_outbreak_1', 'handle', 'trump_outbreak_1', 'TERMINATE'], ['START', 'TERMINATE'], ['START', 'TERMINATE'], ['START', 'TERMINATE'], ['START', 'cause', 'virus_outbreak_6', 'cause', 'virus_outbreak_6', 'blame', 'us_virus_15', 'blame', 'us_virus_15', 'include', 'trump_us_16', 'TERMINATE'], ['START', 'register', 'italy_cases_32', 'register', 'italy_cases_32', 'TERMINATE'], ['START', 'TERMINATE'], ['START', 'TERMINATE'], ['START', 'jump', 'cases_coronavirus_27', 'represent', 'outbreak_coronavirus_28', 'present', 'coronavirus_us_40', 'present', 'coronavirus_us_40', 'present', 'coronavirus_us_89', 'present', 'coronavirus_us_89', 'report', 'iran_coronavirus_175', 'report', 'china_cases_272', 'release', 'china_cases_272', 'TERMINATE'], ['START', 'TERMINATE'], ['START', 'report', 'china_cases_90', 'confirm', 'china_cases_93', 'TERMINATE'], ['START', 'TERMINATE'], ['START', 'TERMINATE'], ['START', 'discover', 'uk_virus_10', 'TERMINATE'], ['START', 'TERMINATE'], ['START', 'report', 'iran_cases_11', 'TERMINATE'], ['START', 'TERMINATE'], ['START', 'TERMINATE'], ['START', 'TERMINATE'], ['START', 'TERMINATE'], ['START', 'TERMINATE'], ['START', 'emerge', 'coronavirus_wuhan_3', 'TERMINATE'], ['START', 'TERMINATE'], ['START', 'overtake', 'cases_china_30', 'TERMINATE'], ['START', 'TERMINATE'], ['START', 'TERMINATE'], ['START', 'TERMINATE'], ['START', 'TERMINATE'], ['START', 'TERMINATE'], ['START', 'TERMINATE'], ['START', 'compare', 'trump_coronavirus_3', 'report', 'us_coronavirus_28', 'report', 'us_coronavirus_28', 'cause', 'coronavirus_covid19_88', 'TERMINATE'], ['START', 'contend', 'government_japan_8', 'map', 'japan_outbreak_13', 'confirm', 'japan_cases_13', 'TERMINATE'], ['START', 'TERMINATE'], ['START', 'TERMINATE'], ['START', 'report', 'china_cases_8', 'report', 'china_cases_8', 'TERMINATE'], ['START', 'TERMINATE'], ['START', 'TERMINATE'], ['START', 'TERMINATE'], ['START', 'cause', 'chinese_virus_5', 'TERMINATE'], ['START', 'TERMINATE'], ['START', 'cause', 'coronavirus_covid19_1', 'TERMINATE'], ['START', 'TERMINATE'], ['START', 'TERMINATE'], ['START', 'TERMINATE'], ['START', 'TERMINATE'], ['START', 'TERMINATE'], ['START', 'remind', 'trump_us_3', 'TERMINATE'], ['START', 'compare', 'virus_outbreak_2', 'contain', 'china_coronavirus_18', 'work', 'china_coronavirus_18', 'contain', 'china_coronavirus_18', 'work', 'china_coronavirus_23', 'contain', 'china_coronavirus_23', 'TERMINATE'], ['START', 'kill', 'coronavirus_iran_9', 'TERMINATE'], ['START', 'TERMINATE'], ['START', 'TERMINATE'], ['START', 'TERMINATE'], ['START', 'TERMINATE'], ['START', 'record', 'outbreak_china_5', 'TERMINATE'], ['START', 'TERMINATE'], ['START', 'tackle', 'government_outbreak_34', 'TERMINATE'], ['START', 'cross', 'trump_virus_4', 'TERMINATE'], ['START', 'TERMINATE'], ['START', 'TERMINATE'], ['START', 'TERMINATE'], ['START', 'TERMINATE'], ['START', 'TERMINATE'], ['START', 'TERMINATE'], ['START', 'TERMINATE'], ['START', 'TERMINATE'], ['START', 'TERMINATE'], ['START', 'TERMINATE'], ['START', 'TERMINATE'], ['START', 'TERMINATE'], ['START', 'TERMINATE'], ['START', 'TERMINATE'], ['START', 'TERMINATE'], ['START', 'TERMINATE'], ['START', 'TERMINATE'], ['START', 'TERMINATE'], ['START', 'hide', 'coronavirus_covid19_12', 'TERMINATE'], ['START', 'approve', 'us_coronavirus_11', 'infect', 'cases_covid19_197', 'cure', 'cases_coronavirus_216', 'cure', 'cases_coronavirus_216', 'report', 'virus_cases_287', 'TERMINATE'], ['START', 'TERMINATE'], ['START', 'TERMINATE'], ['START', 'TERMINATE'], ['START', 'TERMINATE'], ['START', 'spread', 'covid19_coronavirus_1', 'emerge', 'coronavirus_china_10', 'TERMINATE'], ['START', 'combat', 'italy_virus_7', 'combat', 'italy_virus_7', 'TERMINATE'], ['START', 'TERMINATE'], ['START', 'TERMINATE'], ['START', 'TERMINATE'], ['START', 'rob', 'cases_us_4', 'rob', 'cases_us_4', 'TERMINATE'], ['START', 'TERMINATE'], ['START', 'TERMINATE'], ['START', 'cause', 'coronavirus_covid19_16', 'cause', 'coronavirus_covid19_16', 'TERMINATE'], ['START', 'TERMINATE'], ['START', 'TERMINATE'], ['START', 'TERMINATE'], ['START', 'TERMINATE'], ['START', 'TERMINATE'], ['START', 'TERMINATE'], ['START', 'TERMINATE'], ['START', 'TERMINATE'], ['START', 'TERMINATE'], ['START', 'TERMINATE'], ['START', 'emerge', 'coronavirus_china_14', 'TERMINATE'], ['START', 'TERMINATE'], ['START', 'TERMINATE'], ['START', 'TERMINATE'], ['START', 'TERMINATE'], ['START', 'TERMINATE'], ['START', 'TERMINATE'], ['START', 'TERMINATE'], ['START', 'TERMINATE'], ['START', 'TERMINATE'], ['START', 'report', 'us_coronavirus_15', 'TERMINATE'], ['START', 'fight', 'beijing_virus_2', 'TERMINATE'], ['START', 'face', 'italy_coronavirus_50', 'TERMINATE'], ['START', 'infect', 'cases_virus_1', 'TERMINATE'], ['START', 'TERMINATE'], ['START', 'TERMINATE'], ['START', 'TERMINATE'], ['START', 'TERMINATE'], ['START', 'TERMINATE'], ['START', 'TERMINATE'], ['START', 'TERMINATE'], ['START', 'TERMINATE'], ['START', 'TERMINATE'], ['START', 'TERMINATE'], ['START', 'TERMINATE'], ['START', 'TERMINATE'], ['START', 'TERMINATE'], ['START', 'TERMINATE'], ['START', 'TERMINATE'], ['START', 'TERMINATE'], ['START', 'TERMINATE'], ['START', 'TERMINATE'], ['START', 'TERMINATE'], ['START', 'TERMINATE'], ['START', 'slow', 'government_virus_2', 'TERMINATE'], ['START', 'TERMINATE'], ['START', 'TERMINATE'], ['START', 'show', 'italy_virus_9', 'emerge', 'virus_china_14', 'enter', 'virus_italy_17', 'enter', 'virus_italy_17', 'TERMINATE'], ['START', 'TERMINATE'], ['START', 'TERMINATE'], ['START', 'TERMINATE'], ['START', 'TERMINATE'], ['START', 'TERMINATE'], ['START', 'TERMINATE'], ['START', 'TERMINATE'], ['START', 'boost', 'government_uk_17', 'TERMINATE'], ['START', 'respond', 'trump_virus_7', 'TERMINATE'], ['START', 'TERMINATE'], ['START', 'TERMINATE'], ['START', 'TERMINATE'], ['START', 'begin', 'cases_iran_5', 'spread', 'covid19_iran_7', 'cause', 'coronavirus_covid19_7', 'force', 'covid19_iran_18', 'force', 'covid19_iran_18', 'TERMINATE'], ['START', 'spread', 'coronavirus_china_70', 'TERMINATE'], ['START', 'TERMINATE'], ['START', 'TERMINATE'], ['START', 'TERMINATE'], ['START', 'TERMINATE'], ['START', 'exploit', 'china_coronavirus_0', 'exploit', 'china_coronavirus_0', 'exploit', 'china_virus_5', 'TERMINATE'], ['START', 'TERMINATE'], ['START', 'TERMINATE'], ['START', 'TERMINATE'], ['START', 'TERMINATE'], ['START', 'TERMINATE'], ['START', 'TERMINATE'], ['START', 'TERMINATE'], ['START', 'TERMINATE'], ['START', 'TERMINATE'], ['START', 'TERMINATE'], ['START', 'TERMINATE'], ['START', 'TERMINATE'], ['START', 'TERMINATE'], ['START', 'TERMINATE'], ['START', 'TERMINATE'], ['START', 'TERMINATE'], ['START', 'TERMINATE'], ['START', 'smuggle', 'outbreak_china_0', 'TERMINATE'], ['START', 'TERMINATE'], ['START', 'TERMINATE'], ['START', 'TERMINATE'], ['START', 'TERMINATE'], ['START', 'TERMINATE'], ['START', 'TERMINATE'], ['START', 'TERMINATE'], ['START', 'TERMINATE'], ['START', 'TERMINATE'], ['START', 'TERMINATE'], ['START', 'TERMINATE'], ['START', 'TERMINATE'], ['START', 'TERMINATE'], ['START', 'TERMINATE'], ['START', 'TERMINATE'], ['START', 'impact', 'covid19_china_16', 'impact', 'covid19_china_16', 'TERMINATE'], ['START', 'TERMINATE'], ['START', 'TERMINATE'], ['START', 'TERMINATE'], ['START', 'TERMINATE'], ['START', 'depend', 'outbreak_china_42', 'TERMINATE'], ['START', 'TERMINATE'], ['START', 'quarantine', 'cases_outbreak_0', 'TERMINATE'], ['START', 'TERMINATE'], ['START', 'TERMINATE'], ['START', 'report', 'cases_china_21', 'TERMINATE'], ['START', 'TERMINATE'], ['START', 'TERMINATE'], ['START', 'TERMINATE'], ['START', 'detect', 'cases_coronavirus_6', 'TERMINATE'], ['START', 'TERMINATE'], ['START', 'fight', 'us_outbreak_15', 'TERMINATE'], ['START', 'TERMINATE'], ['START', 'TERMINATE'], ['START', 'TERMINATE'], ['START', 'TERMINATE'], ['START', 'TERMINATE'], ['START', 'TERMINATE'], ['START', 'TERMINATE'], ['START', 'TERMINATE'], ['START', 'TERMINATE'], ['START', 'TERMINATE'], ['START', 'TERMINATE'], ['START', 'report', 'uk_cases_27', 'report', 'uk_cases_27', 'report', 'china_cases_231', 'report', 'china_cases_231', 'confirm', 'china_cases_319', 'confirm', 'china_cases_319', 'write', 'coronavirus_uk_347', 'criticize', 'trump_us_366', 'consider', 'trump_us_382', 'add', 'us_cases_384', 'TERMINATE'], ['START', 'TERMINATE'], ['START', 'TERMINATE'], ['START', 'hold', 'government_cases_1', 'TERMINATE'], ['START', 'stop', 'government_coronavirus_6', 'TERMINATE'], ['START', 'TERMINATE'], ['START', 'begin', 'outbreak_china_17', 'TERMINATE'], ['START', 'TERMINATE'], ['START', 'TERMINATE'], ['START', 'TERMINATE'], ['START', 'TERMINATE'], ['START', 'TERMINATE'], ['START', 'report', 'uk_cases_27', 'report', 'uk_cases_27', 'report', 'china_cases_231', 'report', 'china_cases_231', 'confirm', 'china_cases_319', 'confirm', 'china_cases_319', 'write', 'coronavirus_uk_347', 'criticize', 'trump_us_366', 'consider', 'trump_us_382', 'add', 'us_cases_384', 'TERMINATE'], ['START', 'attempt', 'government_coronavirus_4', 'battle', 'government_coronavirus_4', 'TERMINATE'], ['START', 'TERMINATE'], ['START', 'report', 'coronavirus_cases_0', 'TERMINATE'], ['START', 'TERMINATE'], ['START', 'TERMINATE'], ['START', 'distance', 'china_virus_1', 'TERMINATE'], ['START', 'TERMINATE'], ['START', 'TERMINATE'], ['START', 'TERMINATE'], ['START', 'TERMINATE'], ['START', 'TERMINATE'], ['START', 'TERMINATE'], ['START', 'TERMINATE'], ['START', 'TERMINATE'], ['START', 'TERMINATE'], ['START', 'TERMINATE'], ['START', 'TERMINATE'], ['START', 'TERMINATE'], ['START', 'TERMINATE'], ['START', 'TERMINATE'], ['START', 'relate', 'coronavirus_virus_5', 'relate', 'coronavirus_virus_5', 'work', 'coronavirus_virus_17', 'understand', 'coronavirus_virus_17', 'TERMINATE'], ['START', 'urge', 'trump_coronavirus_7', 'TERMINATE'], ['START', 'TERMINATE'], ['START', 'TERMINATE'], ['START', 'TERMINATE'], ['START', 'state', 'trump_outbreak_24', 'bring', 'army_virus_31', 'TERMINATE'], ['START', 'TERMINATE'], ['START', 'TERMINATE'], ['START', 'TERMINATE'], ['START', 'send', 'beijing_iran_24', 'TERMINATE'], ['START', 'TERMINATE'], ['START', 'TERMINATE'], ['START', 'TERMINATE'], ['START', 'cause', 'virus_covid19_1', 'cause', 'virus_covid19_1', 'TERMINATE'], ['START', 'TERMINATE'], ['START', 'TERMINATE'], ['START', 'report', 'china_cases_33', 'report', 'china_cases_33', 'TERMINATE'], ['START', 'TERMINATE'], ['START', 'TERMINATE'], ['START', 'TERMINATE'], ['START', 'account', 'china_virus_4', 'TERMINATE'], ['START', 'TERMINATE'], ['START', 'hold', 'outbreak_wuhan_167', 'TERMINATE'], ['START', 'TERMINATE'], ['START', 'convulse', 'outbreak_iran_0', 'TERMINATE'], ['START', 'TERMINATE'], ['START', 'TERMINATE'], ['START', 'TERMINATE'], ['START', 'TERMINATE'], ['START', 'send', 'government_army_15', 'TERMINATE'], ['START', 'TERMINATE'], ['START', 'TERMINATE'], ['START', 'TERMINATE'], ['START', 'TERMINATE'], ['START', 'TERMINATE'], ['START', 'TERMINATE'], ['START', 'TERMINATE'], ['START', 'TERMINATE'], ['START', 'strike', 'outbreak_us_3', 'TERMINATE'], ['START', 'TERMINATE'], ['START', 'TERMINATE'], ['START', 'TERMINATE'], ['START', 'surpass', 'us_cases_5', 'surpass', 'us_cases_5', 'report', 'italy_cases_31', 'test', 'uk_coronavirus_155', 'report', 'uk_cases_156', 'report', 'uk_coronavirus_156', 'report', 'uk_coronavirus_156', 'report', 'uk_cases_156', 'TERMINATE'], ['START', 'TERMINATE'], ['START', 'TERMINATE'], ['START', 'report', 'outbreak_cases_15', 'TERMINATE'], ['START', 'TERMINATE'], ['START', 'TERMINATE'], ['START', 'detect', 'virus_china_1', 'TERMINATE'], ['START', 'TERMINATE'], ['START', 'TERMINATE'], ['START', 'TERMINATE'], ['START', 'TERMINATE'], ['START', 'TERMINATE'], ['START', 'TERMINATE'], ['START', 'TERMINATE'], ['START', 'TERMINATE'], ['START', 'report', 'us_cases_15', 'report', 'us_cases_15', 'track', 'government_cases_18', 'flatten', 'cases_china_28', 'TERMINATE'], ['START', 'TERMINATE'], ['START', 'TERMINATE'], ['START', 'TERMINATE'], ['START', 'confirm', 'japan_cases_8', 'TERMINATE'], ['START', 'TERMINATE'], ['START', 'restrict', 'government_iran_16', 'restrict', 'government_iran_20', 'visit', 'iran_china_34', 'TERMINATE'], ['START', 'TERMINATE'], ['START', 'TERMINATE'], ['START', 'TERMINATE'], ['START', 'TERMINATE'], ['START', 'TERMINATE'], ['START', 'declare', 'cases_uk_9', 'TERMINATE'], ['START', 'TERMINATE'], ['START', 'TERMINATE'], ['START', 'TERMINATE'], ['START', 'TERMINATE'], ['START', 'cause', 'virus_covid19_3', 'cause', 'virus_covid19_3', 'TERMINATE'], ['START', 'TERMINATE'], ['START', 'view', 'trump_coronavirus_1', 'view', 'trump_coronavirus_1', 'TERMINATE'], ['START', 'TERMINATE'], ['START', 'TERMINATE'], ['START', 'declare', 'cases_coronavirus_9', 'TERMINATE'], ['START', 'underreported', 'china_cases_6', 'underreported', 'china_cases_6', 'begin', 'outbreak_china_7', 'report', 'beijing_cases_7', 'confirm', 'us_cases_7', 'report', 'china_cases_23', 'report', 'china_cases_23', 'dwindle', 'cases_china_26', 'TERMINATE'], ['START', 'fall', 'china_cases_14', 'spread', 'virus_outbreak_17', 'TERMINATE'], ['START', 'TERMINATE'], ['START', 'underreporting', 'china_cases_19', 'underreporting', 'china_cases_19', 'underreporting', 'beijing_wuhan_24', 'play', 'china_virus_25', 'warn', 'trump_iran_42', 'TERMINATE'], ['START', 'TERMINATE'], ['START', 'surface', 'coronavirus_china_13', 'TERMINATE'], ['START', 'TERMINATE'], ['START', 'TERMINATE'], ['START', 'TERMINATE'], ['START', 'report', 'japan_cases_17', 'TERMINATE'], ['START', 'TERMINATE'], ['START', 'threaten', 'coronavirus_us_107', 'TERMINATE'], ['START', 'label', 'cases_covid19_16', 'report', 'china_cases_30', 'report', 'china_cases_30', 'TERMINATE'], ['START', 'report', 'japan_cases_39', 'TERMINATE'], ['START', 'TERMINATE'], ['START', 'TERMINATE'], ['START', 'TERMINATE'], ['START', 'TERMINATE'], ['START', 'TERMINATE'], ['START', 'TERMINATE'], ['START', 'TERMINATE'], ['START', 'TERMINATE'], ['START', 'TERMINATE'], ['START', 'TERMINATE'], ['START', 'TERMINATE'], ['START', 'TERMINATE'], ['START', 'report', 'outbreak_cases_16', 'report', 'china_cases_16', 'TERMINATE'], ['START', 'confirm', 'italy_coronavirus_8', 'confirm', 'italy_cases_8', 'TERMINATE'], ['START', 'cause', 'virus_covid19_12', 'cause', 'virus_covid19_12', 'call', 'covid19_coronavirus_12', 'TERMINATE'], ['START', 'TERMINATE'], ['START', 'TERMINATE'], ['START', 'TERMINATE'], ['START', 'TERMINATE'], ['START', 'TERMINATE'], ['START', 'TERMINATE'], ['START', 'TERMINATE'], ['START', 'TERMINATE'], ['START', 'state', 'us_government_1', 'TERMINATE'], ['START', 'TERMINATE'], ['START', 'emit', 'waves_radiation_42', 'emit', 'waves_radiation_42', 'TERMINATE'], ['START', 'TERMINATE'], ['START', 'fight', 'government_virus_8', 'TERMINATE'], ['START', 'TERMINATE'], ['START', 'TERMINATE'], ['START', 'TERMINATE'], ['START', 'die', 'china_outbreak_196', 'report', 'china_cases_202', 'report', 'china_cases_202', 'TERMINATE'], ['START', 'TERMINATE'], ['START', 'report', 'china_cases_6', 'report', 'china_coronavirus_6', 'TERMINATE'], ['START', 'TERMINATE'], ['START', 'TERMINATE'], ['START', 'cause', 'virus_covid19_163', 'cause', 'virus_covid19_163', 'TERMINATE'], ['START', 'TERMINATE']]\n"
    }
   ],
   "source": [
    "print(trajectories)"
   ]
  },
  {
   "cell_type": "code",
   "execution_count": 104,
   "metadata": {},
   "outputs": [],
   "source": [
    "def find_mat(trajectories):\n",
    "    rev_dict = {}\n",
    "    precedence_matrix = np.zeros((50000,50000))\n",
    "    dictionary_of_labels = {\"START\":0, \"TERMINATE\":1}\n",
    "    counter_of_labels = defaultdict(int)\n",
    "    max_rows = 1\n",
    "    max_cols = 1\n",
    "    counter = 2\n",
    "\n",
    "    for trajectory in trajectories:\n",
    "\n",
    "        triplets = [\"START\"]\n",
    "        index = 1\n",
    "\n",
    "        while index < len(trajectory)-2:\n",
    "            triplets.append(trajectory[index] + '_' + trajectory[index + 1])\n",
    "            index += 2\n",
    "\n",
    "        triplets.append(\"TERMINATE\")\n",
    "\n",
    "        for key,_ in enumerate(triplets[1:-1]):\n",
    "            removed_triplets = triplets[key+1].split(\"_\")\n",
    "            if len(removed_triplets) > 1:\n",
    "                subject_ = removed_triplets[1]\n",
    "                object_ = removed_triplets[2]\n",
    "                if subject_ not in dictionary_of_labels:\n",
    "                    dictionary_of_labels[subject_] = counter\n",
    "                    counter += 1\n",
    "                if object_ not in dictionary_of_labels:\n",
    "                    dictionary_of_labels[object_] = counter\n",
    "                    counter += 1\n",
    "        \n",
    "        triplet_temp = []\n",
    "\n",
    "        # find uniques\n",
    "        for trip in triplets:\n",
    "            try:\n",
    "                removed_triplet = trip.rsplit(\"_\",1)[0]\n",
    "            except:\n",
    "                removed_triplet = trip\n",
    "\n",
    "            if removed_triplet not in [t.rsplit(\"_\",1)[0] for t in triplet_temp]:\n",
    "                triplet_temp.append(trip)\n",
    "\n",
    "        triplets = triplet_temp\n",
    "\n",
    "        # for trip in triplets:\n",
    "        #     counter_of_labels[trip] += 1\n",
    "\n",
    "        alpha = 1.0\n",
    "\n",
    "        for key in range(1,len(triplets)):\n",
    "            removed_triplets = triplets[key].split(\"_\")\n",
    "            try:\n",
    "                subject_ = removed_triplets[1]\n",
    "                object_ = removed_triplets[2]\n",
    "                precedence_matrix[dictionary_of_labels[subject_]]\\\n",
    "                                            [dictionary_of_labels[object_]] += 1.0\n",
    "            except:\n",
    "                pass\n",
    "\n",
    "\n",
    "    precedence_matrix = precedence_matrix[:counter,:counter]\n",
    "    for key in dictionary_of_labels:\n",
    "        rev_dict[dictionary_of_labels[key]] = key\n",
    "\n",
    "    return precedence_matrix, dictionary_of_labels, rev_dict"
   ]
  },
  {
   "cell_type": "code",
   "execution_count": 105,
   "metadata": {
    "tags": [
     "outputPrepend",
     "outputPrepend",
     "outputPrepend",
     "outputPrepend",
     "outputPrepend"
    ]
   },
   "outputs": [
    {
     "output_type": "stream",
     "name": "stdout",
     "text": "0\n10\n20\n30\n40\n50\n60\n70\n80\n90\n100\n110\n120\n130\n140\n150\n160\n170\n180\n190\n200\n210\n220\n230\n240\n250\n260\n270\n280\n290\n300\n310\n320\n330\n340\n350\n360\n370\n380\n390\n400\n410\n420\n430\n440\n450\n460\n470\n480\n490\n500\n510\n520\n530\n540\n550\n560\n570\n580\n590\n600\n610\n620\n630\n640\n650\n660\n670\n680\n690\n700\n710\n720\n730\n740\n750\n760\n770\n780\n790\n800\n810\n820\n830\n840\n850\n860\n870\n880\n890\n900\n910\n920\n930\n940\n950\n960\n970\n980\n990\n1000\n1010\n1020\n1030\n1040\n1050\n1060\n1070\n1080\n1090\n1100\n1110\n1120\n1130\n1140\n1150\n1160\n1170\n1180\n1190\n1200\n1210\n1220\n1230\n1240\n1250\n1260\n1270\n1280\n1290\n1300\n1310\n1320\n1330\n1340\n1350\n1360\n1370\n1380\n1390\n1400\n1410\n1420\n1430\n1440\n1450\n1460\n1470\n1480\n1490\n1500\n1510\n1520\n1530\n1540\n1550\n1560\n1570\n1580\n1590\n1600\n1610\n1620\n1630\n1640\n1650\n1660\n1670\n1680\n1690\n1700\n1710\n"
    }
   ],
   "source": [
    "actants_5g = [\"5g\",\"radio\",\"transmitters\",\"towers\",\"radiation\",\"army\",\"waves\",\"conspiracy\"]\n",
    "i = 0\n",
    "while i < len(trajectories):\n",
    "    sub_t = trajectories[0:i+10]\n",
    "    mat, dic, rev_dict = find_mat(sub_t)\n",
    "\n",
    "    G = nx.from_numpy_matrix(mat, create_using=nx.DiGraph)\n",
    "    DISP_THRESH = 2\n",
    "\n",
    "    bb = {}\n",
    "    for index, val in np.ndenumerate(mat):\n",
    "        if val > 1:\n",
    "            bb[index] = {\"color\":\"red\", \"penwidth\":2}\n",
    "        else:\n",
    "            bb[index] = {\"color\":\"blue\"}\n",
    "    nx.set_edge_attributes(G, bb)\n",
    "\n",
    "    bb1 = {}\n",
    "    for j in range(mat.shape[0]):\n",
    "        if rev_dict[j] in actants_5g:\n",
    "            bb1[j] = {\"color\":\"red\", \"penwidth\":4}\n",
    "        else:\n",
    "            bb1[j] = {\"color\":\"blue\"}\n",
    "\n",
    "    nx.set_node_attributes(G, bb1)\n",
    "\n",
    "    bb2 = {}\n",
    "    for j in range(mat.shape[0]):\n",
    "        if rev_dict[j] in places:\n",
    "            bb2[j] = {\"color\":\"green\", \"penwidth\":4}\n",
    "        else:\n",
    "            bb2[j] = {\"color\":\"blue\"}\n",
    "    nx.set_node_attributes(G, bb2)\n",
    "\n",
    "    H = nx.relabel_nodes(G, rev_dict)\n",
    "    #H.remove_nodes_from(list(nx.isolates(H)))\n",
    "    A = nx.nx_agraph.to_agraph(H)\n",
    "\n",
    "    # for i in range(number_of_steps):\n",
    "    #     same_priority = []\n",
    "    #     for j in range(len(time_step)):\n",
    "    #         if time_step[j] == i:\n",
    "    #             same_priority.append(diction[j])\n",
    "    #     one = A.add_subgraph(same_priority,rank='same')\n",
    "\n",
    "    A.layout('dot')\n",
    "    A.draw(\"Results0413/Actant_TimeSeries/step\" + str(i) + '.png')\n",
    "\n",
    "    print(i)\n",
    "    i = i + 10\n",
    "\n",
    "        "
   ]
  },
  {
   "cell_type": "code",
   "execution_count": 106,
   "metadata": {},
   "outputs": [
    {
     "output_type": "stream",
     "name": "stdout",
     "text": "{0: 'START', 1: 'TERMINATE', 2: 'china', 3: 'outbreak', 4: 'cases', 5: 'wuhan', 6: 'virus', 7: 'government', 8: 'uk', 9: 'coronavirus', 10: 'beijing', 11: 'chinese', 12: 'japan', 13: 'us', 14: 'trump', 15: 'italy', 16: 'covid19', 17: 'iran', 18: 'conspiracy', 19: 'army', 20: 'waves', 21: 'radiation'}\n"
    }
   ],
   "source": [
    "print(rev_dict)"
   ]
  },
  {
   "cell_type": "code",
   "execution_count": null,
   "metadata": {},
   "outputs": [],
   "source": []
  }
 ]
}