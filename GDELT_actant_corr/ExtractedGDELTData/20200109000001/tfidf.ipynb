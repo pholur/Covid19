{
 "nbformat": 4,
 "nbformat_minor": 2,
 "metadata": {
  "language_info": {
   "name": "python",
   "codemirror_mode": {
    "name": "ipython",
    "version": 3
   },
   "version": "3.7.3-final"
  },
  "orig_nbformat": 2,
  "file_extension": ".py",
  "mimetype": "text/x-python",
  "name": "python",
  "npconvert_exporter": "python",
  "pygments_lexer": "ipython3",
  "version": 3,
  "kernelspec": {
   "name": "python37364bit4bd693e9780a48afbf8d298023c65066",
   "display_name": "Python 3.7.3 64-bit"
  }
 },
 "cells": [
  {
   "cell_type": "code",
   "execution_count": null,
   "metadata": {},
   "outputs": [],
   "source": [
    "from sklearn.feature_extraction.text import TfidfTransformer\n",
    "from sklearn.feature_extraction.text import CountVectorizer\n",
    "from sklearn.pipeline import Pipeline\n",
    "\n",
    "vocabulary = []\n",
    "for row in ent_file.iterrows():\n",
    "    if row[1]['entity'] not in vocabulary:\n",
    "        vocabulary.append(row[1]['entity'])\n",
    "\n",
    "corpus = []\n",
    "\n",
    "\n",
    "\n",
    "corpus = []\n",
    "for parse\n",
    "    temp_corpus = \"\"\n",
    "    for fold in list_of_folders[1:5]:\n",
    "        with open(fold + \"/into_relex.txt\", \"r\") as f:\n",
    "            for line in f.readlines():\n",
    "                if line not in [\"text\", \"\\n\"]:\n",
    "                    temp_corpus += line\n",
    "    corpus.append(temp_corpus)\n",
    "    \n",
    "\n",
    "pipe = Pipeline([('count', CountVectorizer(vocabulary=vocabulary)),\n",
    "                 ('tfid', TfidfTransformer())]).fit(corpus)\n",
    "pipe['count'].transform(corpus).toarray()\n",
    "tfidf_vectors = pipe.transform(corpus)"
   ]
  },
  {
   "cell_type": "code",
   "execution_count": 17,
   "metadata": {},
   "outputs": [
    {
     "output_type": "stream",
     "name": "stdout",
     "text": "20200101000001\n20200102000001\n20200103000001\n20200104000001\n20200105000001\n20200106000001\n20200107000001\n20200108000001\n20200109000001\n20200110000001\n20200111000001\n20200112000001\n20200113000001\n20200114000001\n20200115000001\n20200116000001\n20200117000001\n20200118000001\n20200119000001\n20200120000001\n20200121000001\n20200122000001\n20200123000001\n20200124000001\n20200125000001\n20200126000001\n20200127000001\n20200128000001\n20200129000001\n20200130000001\n20200131000001\n20200201000001\n20200202000001\n20200203000001\n20200204000001\n20200205000001\n20200206000001\n20200207000001\n20200208000001\n20200209000001\n20200210000001\n20200211000001\n20200212000001\n20200213000001\n20200214000001\n20200215000001\n20200216000001\n20200217000001\n20200218000001\n20200219000001\n20200220000001\n20200221000001\n20200222000001\n20200223000001\n20200224000001\n20200225000001\n20200226000001\n20200227000001\n20200228000001\n20200229000001\n20200301000001\n20200302000001\n20200303000001\n20200304000001\n20200305000001\n20200306000001\n20200307000001\n20200308000001\n20200309000001\n20200310000001\n20200311000001\n20200312000001\n20200313000001\n20200314000001\n20200315000001\n20200316000001\n20200317000001\n20200318000001\n20200319000001\n20200320000001\n20200321000001\n20200322000001\n20200323000001\n20200324000001\n20200325000001\n20200326000001\n20200327000001\n20200328000001\n20200329000001\n20200330000001\n20200331000001\n20200401000001\n20200402000001\n20200403000001\n20200404000001\n20200405000001\n20200406000001\n20200407000001\n20200408000001\n20200409000001\n20200410000001\n20200411000001\n20200412000001\n20200413000001\n20200414000001\n"
    }
   ],
   "source": [
    "import os\n",
    "for root, dirs, files in os.walk(\"../\"):\n",
    "    for dirname in sorted(dirs):\n",
    "        print(dirname)"
   ]
  },
  {
   "cell_type": "code",
   "execution_count": null,
   "metadata": {},
   "outputs": [],
   "source": []
  }
 ]
}